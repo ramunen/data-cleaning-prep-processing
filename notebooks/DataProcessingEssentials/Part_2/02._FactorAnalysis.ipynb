{
 "cells": [
  {
   "cell_type": "code",
   "execution_count": 1,
   "metadata": {},
   "outputs": [],
   "source": [
    "import pandas as pd\n",
    "import pylab\n",
    "import matplotlib.pyplot as plt\n",
    "\n",
    "from sklearn.model_selection import train_test_split\n",
    "from sklearn.linear_model import LogisticRegression\n",
    "from sklearn.metrics import r2_score\n",
    "\n",
    "from sklearn.metrics import accuracy_score\n",
    "from sklearn.metrics import precision_score\n",
    "from sklearn.metrics import recall_score\n",
    "from sklearn.decomposition import FactorAnalysis"
   ]
  },
  {
   "cell_type": "markdown",
   "metadata": {},
   "source": [
    "https://www.kaggle.com/ronitf/heart-disease-uci"
   ]
  },
  {
   "cell_type": "code",
   "execution_count": 2,
   "metadata": {},
   "outputs": [
    {
     "data": {
      "text/html": [
       "<div>\n",
       "<style scoped>\n",
       "    .dataframe tbody tr th:only-of-type {\n",
       "        vertical-align: middle;\n",
       "    }\n",
       "\n",
       "    .dataframe tbody tr th {\n",
       "        vertical-align: top;\n",
       "    }\n",
       "\n",
       "    .dataframe thead th {\n",
       "        text-align: right;\n",
       "    }\n",
       "</style>\n",
       "<table border=\"1\" class=\"dataframe\">\n",
       "  <thead>\n",
       "    <tr style=\"text-align: right;\">\n",
       "      <th></th>\n",
       "      <th>age</th>\n",
       "      <th>sex</th>\n",
       "      <th>cp</th>\n",
       "      <th>trestbps</th>\n",
       "      <th>chol</th>\n",
       "      <th>fbs</th>\n",
       "      <th>restecg</th>\n",
       "      <th>thalach</th>\n",
       "      <th>exang</th>\n",
       "      <th>oldpeak</th>\n",
       "      <th>slope</th>\n",
       "      <th>ca</th>\n",
       "      <th>thal</th>\n",
       "      <th>target</th>\n",
       "    </tr>\n",
       "  </thead>\n",
       "  <tbody>\n",
       "    <tr>\n",
       "      <td>0</td>\n",
       "      <td>63</td>\n",
       "      <td>1</td>\n",
       "      <td>3</td>\n",
       "      <td>145</td>\n",
       "      <td>233</td>\n",
       "      <td>1</td>\n",
       "      <td>0</td>\n",
       "      <td>150</td>\n",
       "      <td>0</td>\n",
       "      <td>2.3</td>\n",
       "      <td>0</td>\n",
       "      <td>0</td>\n",
       "      <td>1</td>\n",
       "      <td>1</td>\n",
       "    </tr>\n",
       "    <tr>\n",
       "      <td>1</td>\n",
       "      <td>37</td>\n",
       "      <td>1</td>\n",
       "      <td>2</td>\n",
       "      <td>130</td>\n",
       "      <td>250</td>\n",
       "      <td>0</td>\n",
       "      <td>1</td>\n",
       "      <td>187</td>\n",
       "      <td>0</td>\n",
       "      <td>3.5</td>\n",
       "      <td>0</td>\n",
       "      <td>0</td>\n",
       "      <td>2</td>\n",
       "      <td>1</td>\n",
       "    </tr>\n",
       "    <tr>\n",
       "      <td>2</td>\n",
       "      <td>41</td>\n",
       "      <td>0</td>\n",
       "      <td>1</td>\n",
       "      <td>130</td>\n",
       "      <td>204</td>\n",
       "      <td>0</td>\n",
       "      <td>0</td>\n",
       "      <td>172</td>\n",
       "      <td>0</td>\n",
       "      <td>1.4</td>\n",
       "      <td>2</td>\n",
       "      <td>0</td>\n",
       "      <td>2</td>\n",
       "      <td>1</td>\n",
       "    </tr>\n",
       "    <tr>\n",
       "      <td>3</td>\n",
       "      <td>56</td>\n",
       "      <td>1</td>\n",
       "      <td>1</td>\n",
       "      <td>120</td>\n",
       "      <td>236</td>\n",
       "      <td>0</td>\n",
       "      <td>1</td>\n",
       "      <td>178</td>\n",
       "      <td>0</td>\n",
       "      <td>0.8</td>\n",
       "      <td>2</td>\n",
       "      <td>0</td>\n",
       "      <td>2</td>\n",
       "      <td>1</td>\n",
       "    </tr>\n",
       "    <tr>\n",
       "      <td>4</td>\n",
       "      <td>57</td>\n",
       "      <td>0</td>\n",
       "      <td>0</td>\n",
       "      <td>120</td>\n",
       "      <td>354</td>\n",
       "      <td>0</td>\n",
       "      <td>1</td>\n",
       "      <td>163</td>\n",
       "      <td>1</td>\n",
       "      <td>0.6</td>\n",
       "      <td>2</td>\n",
       "      <td>0</td>\n",
       "      <td>2</td>\n",
       "      <td>1</td>\n",
       "    </tr>\n",
       "  </tbody>\n",
       "</table>\n",
       "</div>"
      ],
      "text/plain": [
       "   age  sex  cp  trestbps  chol  fbs  restecg  thalach  exang  oldpeak  slope  \\\n",
       "0   63    1   3       145   233    1        0      150      0      2.3      0   \n",
       "1   37    1   2       130   250    0        1      187      0      3.5      0   \n",
       "2   41    0   1       130   204    0        0      172      0      1.4      2   \n",
       "3   56    1   1       120   236    0        1      178      0      0.8      2   \n",
       "4   57    0   0       120   354    0        1      163      1      0.6      2   \n",
       "\n",
       "   ca  thal  target  \n",
       "0   0     1       1  \n",
       "1   0     2       1  \n",
       "2   0     2       1  \n",
       "3   0     2       1  \n",
       "4   0     2       1  "
      ]
     },
     "execution_count": 2,
     "metadata": {},
     "output_type": "execute_result"
    }
   ],
   "source": [
    "heart_data = pd.read_csv(\"datasets/heart.csv\")\n",
    "\n",
    "heart_data.head()"
   ]
  },
  {
   "cell_type": "code",
   "execution_count": 3,
   "metadata": {},
   "outputs": [],
   "source": [
    "x = heart_data.drop([\"target\"], axis = 1)\n",
    "\n",
    "y = heart_data[\"target\"]\n",
    "\n",
    "x_train, x_test, y_train, y_test = train_test_split(x, y, test_size = 0.2)"
   ]
  },
  {
   "cell_type": "markdown",
   "metadata": {},
   "source": [
    "### Baseline classification model which uses all of the existing features"
   ]
  },
  {
   "cell_type": "code",
   "execution_count": 4,
   "metadata": {},
   "outputs": [],
   "source": [
    "model = LogisticRegression(solver = \"liblinear\")"
   ]
  },
  {
   "cell_type": "code",
   "execution_count": 5,
   "metadata": {},
   "outputs": [
    {
     "name": "stdout",
     "output_type": "stream",
     "text": [
      "Training Score : 0.8512396694214877\n"
     ]
    }
   ],
   "source": [
    "model.fit(x_train, y_train)\n",
    "\n",
    "print(\"Training Score :\", model.score(x_train, y_train))"
   ]
  },
  {
   "cell_type": "code",
   "execution_count": 6,
   "metadata": {},
   "outputs": [
    {
     "name": "stdout",
     "output_type": "stream",
     "text": [
      "Testing Score : 0.819672131147541\n"
     ]
    }
   ],
   "source": [
    "y_pred = model.predict(x_test)\n",
    "\n",
    "print(\"Testing Score :\",  accuracy_score(y_test, y_pred))"
   ]
  },
  {
   "cell_type": "code",
   "execution_count": 7,
   "metadata": {},
   "outputs": [
    {
     "data": {
      "text/plain": [
       "['age',\n",
       " 'sex',\n",
       " 'cp',\n",
       " 'trestbps',\n",
       " 'chol',\n",
       " 'fbs',\n",
       " 'restecg',\n",
       " 'thalach',\n",
       " 'exang',\n",
       " 'oldpeak',\n",
       " 'slope',\n",
       " 'ca',\n",
       " 'thal']"
      ]
     },
     "execution_count": 7,
     "metadata": {},
     "output_type": "execute_result"
    }
   ],
   "source": [
    "features = list(heart_data.columns[:-1])\n",
    "\n",
    "features"
   ]
  },
  {
   "cell_type": "code",
   "execution_count": 8,
   "metadata": {},
   "outputs": [
    {
     "data": {
      "text/plain": [
       "13"
      ]
     },
     "execution_count": 8,
     "metadata": {},
     "output_type": "execute_result"
    }
   ],
   "source": [
    "len(features)"
   ]
  },
  {
   "cell_type": "code",
   "execution_count": 9,
   "metadata": {},
   "outputs": [],
   "source": [
    "def perform_factor_analysis(x, y, n):\n",
    "    \n",
    "    fact_a = FactorAnalysis(n_components = n)\n",
    "        \n",
    "    x_new = fact_a.fit_transform(x, y)\n",
    "        \n",
    "    return fact_a, pd.DataFrame(x_new)"
   ]
  },
  {
   "cell_type": "markdown",
   "metadata": {},
   "source": [
    "### Metrics to evaluate a classification model\n",
    "\n",
    "- Accuracy: The proportion of correctly predicted values\n",
    "- Precision: Of the positive predictions by the mode, the proportion that was actually correct\n",
    "- Recall: Of the positive values in the data, the proportion correctly identified by the model\n"
   ]
  },
  {
   "cell_type": "code",
   "execution_count": 10,
   "metadata": {},
   "outputs": [],
   "source": [
    "def compare_results(result_dict):\n",
    "    \n",
    "    for key in result_dict:\n",
    "        print(\"Test :\", key)\n",
    "        \n",
    "        print(\"Accuracy Score :\", result_dict[key][\"accuracy\"])\n",
    "        print(\"Precision Score :\", result_dict[key][\"precision\"])\n",
    "        print(\"Recall Score :\", result_dict[key][\"recall\"])\n",
    "        print()"
   ]
  },
  {
   "cell_type": "code",
   "execution_count": 11,
   "metadata": {},
   "outputs": [],
   "source": [
    "def build_model(target,\n",
    "                features,\n",
    "                dataset,\n",
    "                n_factors):\n",
    "    \n",
    "    x = dataset[features]\n",
    "    y = dataset[target]\n",
    "    \n",
    "    fa_obj, x_new = perform_factor_analysis(x, y, n_factors)\n",
    "    \n",
    "    x_train, x_test, y_train, y_test = train_test_split(x_new, y, test_size = 0.2)\n",
    "    \n",
    "    model = LogisticRegression(solver = \"liblinear\").fit(x_train, y_train)\n",
    "    \n",
    "    y_pred = model.predict(x_test)\n",
    "    \n",
    "    acc = accuracy_score(y_test, y_pred)\n",
    "    prec = precision_score(y_test, y_pred)\n",
    "    recall = recall_score(y_test, y_pred)\n",
    "    \n",
    "    return {\"fact_a_obj\" : fa_obj,\n",
    "            \"transform_x\" : x_new,\n",
    "            \"accuracy\" : acc,\n",
    "            \"precision\" : prec,\n",
    "            \"recall\" : recall}"
   ]
  },
  {
   "cell_type": "markdown",
   "metadata": {},
   "source": [
    "### Visualize how the accuracy score changes for different number of factors"
   ]
  },
  {
   "cell_type": "code",
   "execution_count": 12,
   "metadata": {},
   "outputs": [],
   "source": [
    "def visualize_results(result_dict):\n",
    "    \n",
    "    n_factors = list(range(0, 13))\n",
    "\n",
    "    acc = [result_dict[key][\"accuracy\"] for key in result_dict]\n",
    "    \n",
    "    plt.figure(figsize = (12, 10))\n",
    "    plt.plot(n_factors, acc)\n",
    "    \n",
    "    pylab.ylim([0,1])\n",
    "    \n",
    "    plt.xlabel(\"n_factors\")\n",
    "    plt.ylabel(\"accuracy\")"
   ]
  },
  {
   "cell_type": "code",
   "execution_count": 13,
   "metadata": {},
   "outputs": [],
   "source": [
    "result_dict = {}\n",
    "\n",
    "for i in range(1, 14):\n",
    "    result_dict[\"n_factors - \" + str(i)] = build_model(\"target\", features, heart_data, i)"
   ]
  },
  {
   "cell_type": "code",
   "execution_count": 14,
   "metadata": {},
   "outputs": [
    {
     "name": "stdout",
     "output_type": "stream",
     "text": [
      "Test : n_factors - 1\n",
      "Accuracy Score : 0.47540983606557374\n",
      "Precision Score : 0.48214285714285715\n",
      "Recall Score : 0.9\n",
      "\n",
      "Test : n_factors - 2\n",
      "Accuracy Score : 0.7377049180327869\n",
      "Precision Score : 0.7058823529411765\n",
      "Recall Score : 0.8\n",
      "\n",
      "Test : n_factors - 3\n",
      "Accuracy Score : 0.7704918032786885\n",
      "Precision Score : 0.7837837837837838\n",
      "Recall Score : 0.8285714285714286\n",
      "\n",
      "Test : n_factors - 4\n",
      "Accuracy Score : 0.6885245901639344\n",
      "Precision Score : 0.7222222222222222\n",
      "Recall Score : 0.7428571428571429\n",
      "\n",
      "Test : n_factors - 5\n",
      "Accuracy Score : 0.7540983606557377\n",
      "Precision Score : 0.7222222222222222\n",
      "Recall Score : 0.8387096774193549\n",
      "\n",
      "Test : n_factors - 6\n",
      "Accuracy Score : 0.7377049180327869\n",
      "Precision Score : 0.75\n",
      "Recall Score : 0.7941176470588235\n",
      "\n",
      "Test : n_factors - 7\n",
      "Accuracy Score : 0.9344262295081968\n",
      "Precision Score : 0.9428571428571428\n",
      "Recall Score : 0.9428571428571428\n",
      "\n",
      "Test : n_factors - 8\n",
      "Accuracy Score : 0.8524590163934426\n",
      "Precision Score : 0.8461538461538461\n",
      "Recall Score : 0.9166666666666666\n",
      "\n",
      "Test : n_factors - 9\n",
      "Accuracy Score : 0.7540983606557377\n",
      "Precision Score : 0.7368421052631579\n",
      "Recall Score : 0.8484848484848485\n",
      "\n",
      "Test : n_factors - 10\n",
      "Accuracy Score : 0.8852459016393442\n",
      "Precision Score : 0.9032258064516129\n",
      "Recall Score : 0.875\n",
      "\n",
      "Test : n_factors - 11\n",
      "Accuracy Score : 0.9344262295081968\n",
      "Precision Score : 0.9333333333333333\n",
      "Recall Score : 0.9333333333333333\n",
      "\n",
      "Test : n_factors - 12\n",
      "Accuracy Score : 0.819672131147541\n",
      "Precision Score : 0.7837837837837838\n",
      "Recall Score : 0.90625\n",
      "\n",
      "Test : n_factors - 13\n",
      "Accuracy Score : 0.7540983606557377\n",
      "Precision Score : 0.6944444444444444\n",
      "Recall Score : 0.8620689655172413\n",
      "\n"
     ]
    }
   ],
   "source": [
    "compare_results(result_dict)"
   ]
  },
  {
   "cell_type": "code",
   "execution_count": 15,
   "metadata": {},
   "outputs": [
    {
     "data": {
      "image/png": "[encoded data removed]",
      "text/plain": [
       "<Figure size 864x720 with 1 Axes>"
      ]
     },
     "metadata": {
      "needs_background": "light"
     },
     "output_type": "display_data"
    }
   ],
   "source": [
    "visualize_results(result_dict)"
   ]
  },
  {
   "cell_type": "code",
   "execution_count": null,
   "metadata": {},
   "outputs": [],
   "source": []
  }
 ],
 "metadata": {
  "kernelspec": {
   "display_name": "Python 3",
   "language": "python",
   "name": "python3"
  },
  "language_info": {
   "codemirror_mode": {
    "name": "ipython",
    "version": 3
   },
   "file_extension": ".py",
   "mimetype": "text/x-python",
   "name": "python",
   "nbconvert_exporter": "python",
   "pygments_lexer": "ipython3",
   "version": "3.7.4"
  }
 },
 "nbformat": 4,
 "nbformat_minor": 2
}
